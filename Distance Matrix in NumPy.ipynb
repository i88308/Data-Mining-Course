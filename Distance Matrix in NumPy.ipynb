{
 "cells": [
  {
   "cell_type": "markdown",
   "metadata": {},
   "source": [
    "# Distance Matrix in NumPy\n",
    "\n",
    "This notebook presents a few different approaches to evaluating the distance matrix.\n",
    "\n",
    "Let $d$ denote the dimension of the data space. Let $\\mathbf{X} \\in \\mathbb{R}^{d \\times N}$ be a matrix composed of $N$ data vectors $\\mathbf{x}_1, \\mathbf{x}_2, \\ldots, \\mathbf{x}_N$. Let $\\mathbf{Y} \\in \\mathbb{R}^{d \\times M}$ be a matrix composed of $M$ data vectors $\\mathbf{y}_1, \\mathbf{y}_2, \\ldots, \\mathbf{y}_M$.\n",
    "\n",
    "The distance matrix is a matrix $\\mathbf{D} \\in \\mathbb{R}^{M \\times N}$ such that $D_{ij}$ is the euclidean distance between the $i$-the data vector $\\mathbf{x}_i$ from the matrix $\\mathbf{X}$ and the $j$-the data vector $\\mathbf{y}_j$ from the matrix $\\mathbf{Y}$, i.e.\n",
    "$$D_{ij} = \\mbox{dist}(\\mathbf{x}_i, \\mathbf{y}_j) = \\sqrt{\\sum_{k=1}^d (x_{ik} - y_{ik})^2} = \\sqrt{(\\mathbf{x}_i - \\mathbf{y}_j)^T (\\mathbf{x}_i - \\mathbf{y}_j)}.$$"
   ]
  },
  {
   "cell_type": "code",
   "execution_count": 1,
   "metadata": {},
   "outputs": [],
   "source": [
    "import numpy as np"
   ]
  },
  {
   "cell_type": "code",
   "execution_count": 2,
   "metadata": {},
   "outputs": [],
   "source": [
    "d = 10\n",
    "N = 100\n",
    "M = 1000\n",
    "\n",
    "random = np.random.RandomState(2019)\n",
    "\n",
    "X = random.randn(N, d)\n",
    "Y = random.randn(M, d)"
   ]
  },
  {
   "cell_type": "markdown",
   "metadata": {},
   "source": [
    "## 1st Approach\n",
    "\n",
    "This approach comes directly from the definition of the euclidean distance and it is applied to each pair of data vectors separately."
   ]
  },
  {
   "cell_type": "code",
   "execution_count": 3,
   "metadata": {},
   "outputs": [
    {
     "name": "stdout",
     "output_type": "stream",
     "text": [
      "2.64 s ± 461 ms per loop (mean ± std. dev. of 7 runs, 1 loop each)\n"
     ]
    }
   ],
   "source": [
    "%%timeit\n",
    "\n",
    "D1 = np.zeros((N, M))\n",
    "for i in range(N):\n",
    "    for j in range(M):\n",
    "        for k in range(d):\n",
    "            D1[i, j] += (X[i, k] - Y[j, k])**2\n",
    "D1 = np.sqrt(D1)"
   ]
  },
  {
   "cell_type": "markdown",
   "metadata": {},
   "source": [
    "## 2nd Approach\n",
    "\n",
    "This approach improves the simplest one: instead of the third `for` loop, the sum of the vector coefficients is used."
   ]
  },
  {
   "cell_type": "code",
   "execution_count": 4,
   "metadata": {},
   "outputs": [
    {
     "name": "stdout",
     "output_type": "stream",
     "text": [
      "898 ms ± 99.5 ms per loop (mean ± std. dev. of 7 runs, 1 loop each)\n"
     ]
    }
   ],
   "source": [
    "%%timeit\n",
    "\n",
    "D2 = np.zeros((N, M))\n",
    "for i in range(N):\n",
    "    for j in range(M):\n",
    "        D2[i, j] = ((X[i, :] - Y[j, :])**2).sum()\n",
    "D2 = np.sqrt(D2)"
   ]
  },
  {
   "cell_type": "markdown",
   "metadata": {},
   "source": [
    "## 3rd Approach\n",
    "\n",
    "This approach improves the simplest one: instead of the third `for` loop, the inner product is used."
   ]
  },
  {
   "cell_type": "code",
   "execution_count": 5,
   "metadata": {},
   "outputs": [
    {
     "name": "stdout",
     "output_type": "stream",
     "text": [
      "304 ms ± 33.6 ms per loop (mean ± std. dev. of 7 runs, 1 loop each)\n"
     ]
    }
   ],
   "source": [
    "%%timeit\n",
    "\n",
    "D3 = np.zeros((N, M))\n",
    "for i in range(N):\n",
    "    for j in range(M):\n",
    "        u = (X[i, :] - Y[j, :])\n",
    "        D3[i, j] = u.T.dot(u)\n",
    "D3 = np.sqrt(D3)"
   ]
  },
  {
   "cell_type": "markdown",
   "metadata": {},
   "source": [
    "## 4th Approach\n",
    "\n",
    "This approach comes from the matrix notation of the distance matrix and uses broadcasting in NumPy."
   ]
  },
  {
   "cell_type": "code",
   "execution_count": 6,
   "metadata": {},
   "outputs": [
    {
     "name": "stdout",
     "output_type": "stream",
     "text": [
      "935 µs ± 6.59 µs per loop (mean ± std. dev. of 7 runs, 1000 loops each)\n"
     ]
    }
   ],
   "source": [
    "%%timeit\n",
    "\n",
    "D4 = (X**2).sum(axis=1)[np.newaxis].T - 2 * X.dot(Y.T) + (Y**2).sum(axis=1)[np.newaxis]\n",
    "D4 = np.sqrt(D4)"
   ]
  },
  {
   "cell_type": "markdown",
   "metadata": {},
   "source": [
    "## 5th Approach\n",
    "\n",
    "This approach uses the `sklearn` package function."
   ]
  },
  {
   "cell_type": "code",
   "execution_count": 7,
   "metadata": {},
   "outputs": [],
   "source": [
    "from sklearn.metrics.pairwise import euclidean_distances"
   ]
  },
  {
   "cell_type": "code",
   "execution_count": 8,
   "metadata": {},
   "outputs": [
    {
     "name": "stdout",
     "output_type": "stream",
     "text": [
      "1.48 ms ± 160 µs per loop (mean ± std. dev. of 7 runs, 100 loops each)\n"
     ]
    }
   ],
   "source": [
    "%%timeit\n",
    "\n",
    "D5 = euclidean_distances(X, Y)"
   ]
  },
  {
   "cell_type": "markdown",
   "metadata": {},
   "source": [
    "## 6th Approach\n",
    "\n",
    "This approach uses the `scipy` package function."
   ]
  },
  {
   "cell_type": "code",
   "execution_count": 9,
   "metadata": {},
   "outputs": [],
   "source": [
    "from scipy.spatial import distance_matrix"
   ]
  },
  {
   "cell_type": "code",
   "execution_count": 10,
   "metadata": {},
   "outputs": [
    {
     "name": "stdout",
     "output_type": "stream",
     "text": [
      "22.3 ms ± 3.83 ms per loop (mean ± std. dev. of 7 runs, 10 loops each)\n"
     ]
    }
   ],
   "source": [
    "%%timeit\n",
    "\n",
    "D6 = distance_matrix(X, Y)"
   ]
  }
 ],
 "metadata": {
  "kernelspec": {
   "display_name": "Python 3",
   "language": "python",
   "name": "python3"
  },
  "language_info": {
   "codemirror_mode": {
    "name": "ipython",
    "version": 3
   },
   "file_extension": ".py",
   "mimetype": "text/x-python",
   "name": "python",
   "nbconvert_exporter": "python",
   "pygments_lexer": "ipython3",
   "version": "3.6.5"
  }
 },
 "nbformat": 4,
 "nbformat_minor": 2
}
